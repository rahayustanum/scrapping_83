{
  "cells": [
    {
      "cell_type": "code",
      "execution_count": 38,
      "id": "1e3e35be",
      "metadata": {
        "id": "1e3e35be"
      },
      "outputs": [],
      "source": [
        "import requests\n",
        "from bs4 import BeautifulSoup\n",
        "import pandas as pd"
      ]
    },
    {
      "cell_type": "code",
      "execution_count": 39,
      "id": "8d1c6893",
      "metadata": {
        "id": "8d1c6893"
      },
      "outputs": [],
      "source": [
        "page = requests.get('https://www.goodreads.com/genres/psychology')"
      ]
    },
    {
      "cell_type": "code",
      "execution_count": 40,
      "id": "f9a88d68",
      "metadata": {
        "id": "f9a88d68"
      },
      "outputs": [],
      "source": [
        "response = requests.get('https://www.goodreads.com/genres/psychology')"
      ]
    },
    {
      "cell_type": "code",
      "execution_count": 41,
      "id": "1db0f20e",
      "metadata": {
        "id": "1db0f20e"
      },
      "outputs": [],
      "source": [
        "soup = BeautifulSoup(response.content, 'html.parser')"
      ]
    },
    {
      "cell_type": "code",
      "execution_count": 42,
      "id": "42c4cd8e",
      "metadata": {
        "id": "42c4cd8e"
      },
      "outputs": [],
      "source": [
        "psychology = soup.find_all(\"div\", class_=\"psychology_Book\")"
      ]
    },
    {
      "cell_type": "code",
      "source": [
        "psychology"
      ],
      "metadata": {
        "colab": {
          "base_uri": "https://localhost:8080/"
        },
        "id": "ejlWtdeZFeW7",
        "outputId": "6c170ef8-5084-4e06-8169-a3fcb72231f3"
      },
      "id": "ejlWtdeZFeW7",
      "execution_count": 54,
      "outputs": [
        {
          "output_type": "execute_result",
          "data": {
            "text/plain": [
              "[]"
            ]
          },
          "metadata": {},
          "execution_count": 54
        }
      ]
    },
    {
      "cell_type": "code",
      "execution_count": 48,
      "id": "e5f5a834",
      "metadata": {
        "id": "e5f5a834"
      },
      "outputs": [],
      "source": [
        "authors = []\n",
        "texts = []\n",
        "likes = []\n",
        "for entry in psychology:\n",
        "    author = entry.find(\"span\", class_=\"authorOrTitle\").text.strip()\n",
        "    authors.append(author)\n",
        "    \n",
        "    text = entry.find(\"div\", class_=\"Text\").text.strip().split(\"\\n\")[0].strip(\"“”\")\n",
        "    texts.append(text)\n",
        "\n",
        "    like_count = entry.find(\"a\", class_=\"smallText\").text.strip().split()[0]\n",
        "    likes.append(like_count)"
      ]
    },
    {
      "cell_type": "code",
      "execution_count": 49,
      "id": "591f6f6c",
      "metadata": {
        "id": "591f6f6c"
      },
      "outputs": [],
      "source": [
        "data = {\n",
        "    \"Author\": authors,\n",
        "    \"Text\": texts,\n",
        "    \"Likes\": likes\n",
        "}"
      ]
    },
    {
      "cell_type": "code",
      "execution_count": 50,
      "id": "f318dee6",
      "metadata": {
        "id": "f318dee6"
      },
      "outputs": [],
      "source": [
        "df = pd.DataFrame(data)"
      ]
    },
    {
      "cell_type": "code",
      "execution_count": 51,
      "id": "7baf23b8",
      "metadata": {
        "id": "7baf23b8"
      },
      "outputs": [],
      "source": [
        "df.to_excel(\"goodreads_web_psychology.xlsx\", index=False)"
      ]
    },
    {
      "cell_type": "code",
      "source": [],
      "metadata": {
        "id": "G_NIQQdBIfJg"
      },
      "id": "G_NIQQdBIfJg",
      "execution_count": 51,
      "outputs": []
    }
  ],
  "metadata": {
    "kernelspec": {
      "display_name": "Python 3 (ipykernel)",
      "language": "python",
      "name": "python3"
    },
    "language_info": {
      "codemirror_mode": {
        "name": "ipython",
        "version": 3
      },
      "file_extension": ".py",
      "mimetype": "text/x-python",
      "name": "python",
      "nbconvert_exporter": "python",
      "pygments_lexer": "ipython3",
      "version": "3.11.3"
    },
    "colab": {
      "provenance": []
    }
  },
  "nbformat": 4,
  "nbformat_minor": 5
}